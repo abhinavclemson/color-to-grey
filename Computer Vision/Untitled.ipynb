{
 "cells": [
  {
   "cell_type": "code",
   "execution_count": 1,
   "metadata": {},
   "outputs": [],
   "source": [
    "\n",
    "\n",
    "class PGM:\n",
    "    def __init__(self):\n",
    "        self.name=None    #filename\n",
    "        self.cols=None  #width\n",
    "        self.rows=None  #height\n",
    "        self.maxc=None #max color(usually 255)\n",
    "        self.magic=None #magic number (expect 'P5')\n",
    "        self.data=None #the pixels , stored as 1-D array\n",
    "\n",
    "        "
   ]
  },
  {
   "cell_type": "code",
   "execution_count": 1,
   "metadata": {},
   "outputs": [],
   "source": []
  },
  {
   "cell_type": "code",
   "execution_count": 12,
   "metadata": {},
   "outputs": [],
   "source": [
    " import array\n",
    "  # PPM header\n",
    " width = 256\n",
    " height = 128\n",
    " maxval = 255\n",
    " ppm_header = f'P6 {width} {height} {maxval}\\n'\n",
    " \n",
    " # PPM image data (filled with blue)\n",
    "image = array.array('B', [0, 0, 255] * width * height)\n",
    "\n",
    "# Fill with red the rectangle with origin at (10, 10) and width x height = 50 x 80 pixels\n",
    "for y in range(10, 90):\n",
    "    for x in range(10, 60):\n",
    "        index = 3 * (y * width + x)\n",
    "        image[index] = 255           # red channel\n",
    "        image[index + 1] = 0         # green channel\n",
    "        image[index + 2] = 0         # blue channel\n",
    " # Save the PPM image as a binary file\n",
    "with open('blue_red_example.ppm', 'wb') as f:\n",
    "    f.write(bytearray(ppm_header, 'ascii'))\n",
    "    image.tofile(f)"
   ]
  },
  {
   "cell_type": "code",
   "execution_count": null,
   "metadata": {},
   "outputs": [],
   "source": [
    "class PPM:\n",
    "    import matplotlib.pyplot as plt\n",
    "    %matplotlib inline\n",
    "    from PIL import Image\n",
    "    def __init__(self,filename=None,width=None,height=None,maxval=None):\n",
    "        self.filename=filename\n",
    "        self.width=width\n",
    "        self.height=height\n",
    "        self.maxval=maxval\n",
    "        self.ppm_header=f'P5 {self.width} {self.height} {self.maxval}\\n'\n",
    "    \n",
    "    \n",
    "    def ppm_read(filename):\n",
    "        pic=Image.open(filename)\n",
    "        \n",
    "        ppm_image=array.array('B',[0,0,255]*self.width*self.height)\n",
    "\n",
    "        pgm_image=array.array('B',[255]*self.width*self.height)\n",
    "        index=0\n",
    "        while index<self.height:\n",
    "            for j in range(self.width):\n",
    "                i=j+self.width\n",
    "                ppm_image[]\n",
    "                \n",
    "        \n",
    "        "
   ]
  },
  {
   "cell_type": "code",
   "execution_count": 13,
   "metadata": {},
   "outputs": [
    {
     "ename": "IndexError",
     "evalue": "array assignment index out of range",
     "output_type": "error",
     "traceback": [
      "\u001b[0;31m---------------------------------------------------------------------------\u001b[0m",
      "\u001b[0;31mIndexError\u001b[0m                                Traceback (most recent call last)",
      "\u001b[0;32m<ipython-input-13-ed1b5cf95255>\u001b[0m in \u001b[0;36m<module>\u001b[0;34m\u001b[0m\n\u001b[1;32m     23\u001b[0m        \u001b[0mindex\u001b[0m\u001b[0;34m=\u001b[0m\u001b[0;36m0\u001b[0m\u001b[0;34m\u001b[0m\u001b[0;34m\u001b[0m\u001b[0m\n\u001b[1;32m     24\u001b[0m        \u001b[0mindex\u001b[0m\u001b[0;34m=\u001b[0m\u001b[0madd\u001b[0m\u001b[0;34m+\u001b[0m\u001b[0mj\u001b[0m\u001b[0;34m\u001b[0m\u001b[0;34m\u001b[0m\u001b[0m\n\u001b[0;32m---> 25\u001b[0;31m        \u001b[0mimage\u001b[0m\u001b[0;34m[\u001b[0m\u001b[0mindex\u001b[0m\u001b[0;34m]\u001b[0m \u001b[0;34m=\u001b[0m \u001b[0mabs\u001b[0m\u001b[0;34m(\u001b[0m\u001b[0;36m255\u001b[0m\u001b[0;34m-\u001b[0m\u001b[0mi\u001b[0m\u001b[0;34m*\u001b[0m\u001b[0;36m3\u001b[0m\u001b[0;34m)\u001b[0m         \u001b[0;31m# red channel\u001b[0m\u001b[0;34m\u001b[0m\u001b[0;34m\u001b[0m\u001b[0m\n\u001b[0m\u001b[1;32m     26\u001b[0m        \u001b[0;31m#image[index + 1] = 0         # green channel\u001b[0m\u001b[0;34m\u001b[0m\u001b[0;34m\u001b[0m\u001b[0;34m\u001b[0m\u001b[0m\n\u001b[1;32m     27\u001b[0m        \u001b[0;31m#image[index + 2] = 0         # blue channel\u001b[0m\u001b[0;34m\u001b[0m\u001b[0;34m\u001b[0m\u001b[0;34m\u001b[0m\u001b[0m\n",
      "\u001b[0;31mIndexError\u001b[0m: array assignment index out of range"
     ]
    }
   ],
   "source": [
    " import array\n",
    "  # PPM header\n",
    " width = 256\n",
    " height = 128\n",
    " maxval = 255\n",
    " ppm_header = f'P5 {width} {height} {maxval}\\n'\n",
    " \n",
    " # PPM image data (filled with blue)\n",
    "image = array.array('B', [255] * width * height)\n",
    "\n",
    "# Fill with red the rectangle with origin at (10, 10) and width x height = 50 x 80 pixels\n",
    "add=0\n",
    "for i in range(height):\n",
    "    for j in range(width):\n",
    "        index=0\n",
    "        index=add+j\n",
    "        image[index] = abs(255-i*3)         # red channel\n",
    "        #image[index + 1] = 0         # green channel\n",
    "        #image[index + 2] = 0         # blue channel\n",
    "    add+=width\n",
    "for i in range(height):\n",
    "    for j in range(width):\n",
    "        index=0\n",
    "        index=add+j\n",
    "        image[index] = abs(255-i*3)         # red channel\n",
    "        #image[index + 1] = 0         # green channel\n",
    "        #image[index + 2] = 0         # blue channel\n",
    "    add+=width\n",
    " # Save the PPM image as a binary file\n",
    "with open('blue_red_example.pgm', 'wb') as f:\n",
    "    f.write(bytearray(ppm_header, 'ascii'))\n",
    "    image.tofile(f)"
   ]
  },
  {
   "cell_type": "code",
   "execution_count": null,
   "metadata": {},
   "outputs": [],
   "source": []
  }
 ],
 "metadata": {
  "kernelspec": {
   "display_name": "Python 3",
   "language": "python",
   "name": "python3"
  },
  "language_info": {
   "codemirror_mode": {
    "name": "ipython",
    "version": 3
   },
   "file_extension": ".py",
   "mimetype": "text/x-python",
   "name": "python",
   "nbconvert_exporter": "python",
   "pygments_lexer": "ipython3",
   "version": "3.7.3"
  }
 },
 "nbformat": 4,
 "nbformat_minor": 4
}
