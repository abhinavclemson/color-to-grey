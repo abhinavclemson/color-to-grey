{
 "cells": [
  {
   "cell_type": "code",
   "execution_count": 8,
   "metadata": {},
   "outputs": [],
   "source": [
    "import array\n",
    "import random\n",
    "import sys\n",
    "\n",
    "# define the width  (columns) and height (rows) of your image\n",
    "width = 480\n",
    "height = 640\n",
    "\n",
    "# declare 1-d array of unsigned char and assign it random values\n",
    "buff=array.array('B')\n",
    "\n",
    "\n",
    "\n",
    "for i in range(0, width*height):\n",
    "  buff.append(random.randint(0,255))\n",
    "\n",
    "\n",
    "# open file for writing \n",
    "filename = 'x.pgm'\n",
    "\n",
    "try:\n",
    "  fout=open(filename, 'wb')\n",
    "except:\n",
    "  print(\"Cannot open file “, filename, “Exiting … \\n\")\n",
    "  sys.exit()\n",
    "\n",
    "\n",
    "# define PGM Header\n",
    "pgmHeader = 'P5' + '\\n' + str(width) + '  ' + str(height) + '  ' + str(255) + '\\n'\n",
    "\n",
    "# write the header to the file\n",
    "fout.write(pgmHeader.encode())\n",
    "\n",
    "# write the data to the file \n",
    "buff.tofile(fout)\n",
    "\n",
    "# close the file\n",
    "fout.close()"
   ]
  },
  {
   "cell_type": "code",
   "execution_count": null,
   "metadata": {},
   "outputs": [],
   "source": []
  }
 ],
 "metadata": {
  "kernelspec": {
   "display_name": "Python 3",
   "language": "python",
   "name": "python3"
  },
  "language_info": {
   "codemirror_mode": {
    "name": "ipython",
    "version": 3
   },
   "file_extension": ".py",
   "mimetype": "text/x-python",
   "name": "python",
   "nbconvert_exporter": "python",
   "pygments_lexer": "ipython3",
   "version": "3.7.3"
  }
 },
 "nbformat": 4,
 "nbformat_minor": 4
}
